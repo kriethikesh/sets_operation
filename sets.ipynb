{
  "nbformat": 4,
  "nbformat_minor": 0,
  "metadata": {
    "colab": {
      "provenance": []
    },
    "kernelspec": {
      "name": "python3",
      "display_name": "Python 3"
    },
    "language_info": {
      "name": "python"
    }
  },
  "cells": [
    {
      "cell_type": "code",
      "execution_count": 1,
      "metadata": {
        "id": "oxqyrn9T-T4k"
      },
      "outputs": [],
      "source": [
        "#sets in python"
      ]
    },
    {
      "cell_type": "code",
      "source": [
        "name={\"kriethi\",\"hari\",\"geevin\",\"hema\"}"
      ],
      "metadata": {
        "id": "khkq7zHd-Zst"
      },
      "execution_count": 2,
      "outputs": []
    },
    {
      "cell_type": "code",
      "source": [
        "type(name)"
      ],
      "metadata": {
        "colab": {
          "base_uri": "https://localhost:8080/"
        },
        "id": "AGVeF1FZ-oK9",
        "outputId": "bba73fc8-0fa8-4493-9750-5dd6262c360a"
      },
      "execution_count": 3,
      "outputs": [
        {
          "output_type": "execute_result",
          "data": {
            "text/plain": [
              "set"
            ]
          },
          "metadata": {},
          "execution_count": 3
        }
      ]
    },
    {
      "cell_type": "code",
      "source": [
        "boys={\"kriethi\",\"raju\",\"dhoni\",\"hari\"}"
      ],
      "metadata": {
        "id": "SLtuPE4C-sZN"
      },
      "execution_count": 5,
      "outputs": []
    },
    {
      "cell_type": "code",
      "source": [
        "name.intersection(boys)"
      ],
      "metadata": {
        "colab": {
          "base_uri": "https://localhost:8080/"
        },
        "id": "hQaVay0M-7Ij",
        "outputId": "bba8cbe2-8635-4af9-9ae8-24253d69b1ce"
      },
      "execution_count": 6,
      "outputs": [
        {
          "output_type": "execute_result",
          "data": {
            "text/plain": [
              "{'hari', 'kriethi'}"
            ]
          },
          "metadata": {},
          "execution_count": 6
        }
      ]
    },
    {
      "cell_type": "code",
      "source": [
        "boys.intersection(name)"
      ],
      "metadata": {
        "colab": {
          "base_uri": "https://localhost:8080/"
        },
        "id": "m6N73Mi4_BA0",
        "outputId": "674fda7b-5cb5-4485-94af-89b82acf8989"
      },
      "execution_count": 7,
      "outputs": [
        {
          "output_type": "execute_result",
          "data": {
            "text/plain": [
              "{'hari', 'kriethi'}"
            ]
          },
          "metadata": {},
          "execution_count": 7
        }
      ]
    },
    {
      "cell_type": "code",
      "source": [
        "name.difference_update(boys)"
      ],
      "metadata": {
        "id": "cjDh7My0_HuV"
      },
      "execution_count": 8,
      "outputs": []
    },
    {
      "cell_type": "code",
      "source": [
        "boys"
      ],
      "metadata": {
        "colab": {
          "base_uri": "https://localhost:8080/"
        },
        "id": "6QaoC0wM_bWq",
        "outputId": "bf30d135-01aa-47a3-96c4-f0e0e3173213"
      },
      "execution_count": 9,
      "outputs": [
        {
          "output_type": "execute_result",
          "data": {
            "text/plain": [
              "{'dhoni', 'hari', 'kriethi', 'raju'}"
            ]
          },
          "metadata": {},
          "execution_count": 9
        }
      ]
    },
    {
      "cell_type": "code",
      "source": [
        "name"
      ],
      "metadata": {
        "colab": {
          "base_uri": "https://localhost:8080/"
        },
        "id": "qPwdRcam_eh5",
        "outputId": "bdb60d6f-a8ab-4aea-8a87-f1fdb9b95fb5"
      },
      "execution_count": 10,
      "outputs": [
        {
          "output_type": "execute_result",
          "data": {
            "text/plain": [
              "{'geevin', 'hema'}"
            ]
          },
          "metadata": {},
          "execution_count": 10
        }
      ]
    },
    {
      "cell_type": "code",
      "source": [
        "name.difference(boys)"
      ],
      "metadata": {
        "colab": {
          "base_uri": "https://localhost:8080/"
        },
        "id": "tFgh9eDZ_qCi",
        "outputId": "4bf283ba-4178-423c-e807-8490ba77ad27"
      },
      "execution_count": 11,
      "outputs": [
        {
          "output_type": "execute_result",
          "data": {
            "text/plain": [
              "{'geevin', 'hema'}"
            ]
          },
          "metadata": {},
          "execution_count": 11
        }
      ]
    },
    {
      "cell_type": "code",
      "source": [
        "boys.difference(name)"
      ],
      "metadata": {
        "colab": {
          "base_uri": "https://localhost:8080/"
        },
        "id": "arELmdFR_yvh",
        "outputId": "69b4f69e-3cb3-4ce0-e337-1de9adb919d5"
      },
      "execution_count": 12,
      "outputs": [
        {
          "output_type": "execute_result",
          "data": {
            "text/plain": [
              "{'dhoni', 'hari', 'kriethi', 'raju'}"
            ]
          },
          "metadata": {},
          "execution_count": 12
        }
      ]
    }
  ]
}